{
 "cells": [
  {
   "cell_type": "code",
   "execution_count": null,
   "metadata": {},
   "outputs": [],
   "source": [
    "# !pip3 install -r requirements.txt\n",
    "# !pip3 install https://github.com/pandas-profiling/pandas-profiling/archive/master.zip"
   ]
  },
  {
   "cell_type": "code",
   "execution_count": 2,
   "metadata": {},
   "outputs": [],
   "source": [
    "import pandas as pd\n",
    "# import pandas_profiling as pp\n",
    "import streamlit\n",
    "import altair as alt\n",
    "from vega_datasets import data"
   ]
  },
  {
   "cell_type": "code",
   "execution_count": 54,
   "metadata": {},
   "outputs": [],
   "source": [
    "# Load in the dataset\n",
    "fifa_df = pd.read_csv('data.csv')\n",
    "# len(df)\n",
    "# df.describe()\n",
    "# fifa_df.columns"
   ]
  },
  {
   "cell_type": "code",
   "execution_count": 57,
   "metadata": {},
   "outputs": [],
   "source": [
    "# Get average age, overall rating, and potential rating for each country of player origin\n",
    "nationality_avg = df.groupby('Nationality').mean().reset_index()[[\"Nationality\", \"Age\", \"Overall\", \"Potential\"]]"
   ]
  },
  {
   "cell_type": "code",
   "execution_count": 58,
   "metadata": {},
   "outputs": [
    {
     "data": {
      "text/html": [
       "\n",
       "<div id=\"altair-viz-c18e22b543f94361bf31690ec92d415a\"></div>\n",
       "<script type=\"text/javascript\">\n",
       "  (function(spec, embedOpt){\n",
       "    let outputDiv = document.currentScript.previousElementSibling;\n",
       "    if (outputDiv.id !== \"altair-viz-c18e22b543f94361bf31690ec92d415a\") {\n",
       "      outputDiv = document.getElementById(\"altair-viz-c18e22b543f94361bf31690ec92d415a\");\n",
       "    }\n",
       "    const paths = {\n",
       "      \"vega\": \"https://cdn.jsdelivr.net/npm//vega@5?noext\",\n",
       "      \"vega-lib\": \"https://cdn.jsdelivr.net/npm//vega-lib?noext\",\n",
       "      \"vega-lite\": \"https://cdn.jsdelivr.net/npm//vega-lite@4.8.1?noext\",\n",
       "      \"vega-embed\": \"https://cdn.jsdelivr.net/npm//vega-embed@6?noext\",\n",
       "    };\n",
       "\n",
       "    function loadScript(lib) {\n",
       "      return new Promise(function(resolve, reject) {\n",
       "        var s = document.createElement('script');\n",
       "        s.src = paths[lib];\n",
       "        s.async = true;\n",
       "        s.onload = () => resolve(paths[lib]);\n",
       "        s.onerror = () => reject(`Error loading script: ${paths[lib]}`);\n",
       "        document.getElementsByTagName(\"head\")[0].appendChild(s);\n",
       "      });\n",
       "    }\n",
       "\n",
       "    function showError(err) {\n",
       "      outputDiv.innerHTML = `<div class=\"error\" style=\"color:red;\">${err}</div>`;\n",
       "      throw err;\n",
       "    }\n",
       "\n",
       "    function displayChart(vegaEmbed) {\n",
       "      vegaEmbed(outputDiv, spec, embedOpt)\n",
       "        .catch(err => showError(`Javascript Error: ${err.message}<br>This usually means there's a typo in your chart specification. See the javascript console for the full traceback.`));\n",
       "    }\n",
       "\n",
       "    if(typeof define === \"function\" && define.amd) {\n",
       "      requirejs.config({paths});\n",
       "      require([\"vega-embed\"], displayChart, err => showError(`Error loading script: ${err.message}`));\n",
       "    } else if (typeof vegaEmbed === \"function\") {\n",
       "      displayChart(vegaEmbed);\n",
       "    } else {\n",
       "      loadScript(\"vega\")\n",
       "        .then(() => loadScript(\"vega-lite\"))\n",
       "        .then(() => loadScript(\"vega-embed\"))\n",
       "        .catch(showError)\n",
       "        .then(() => displayChart(vegaEmbed));\n",
       "    }\n",
       "  })({\"config\": {\"view\": {\"continuousWidth\": 400, \"continuousHeight\": 300}}, \"data\": {\"name\": \"data-bf37e5e832fe9869dc6b6c9e00c0e0cd\"}, \"mark\": \"point\", \"encoding\": {\"color\": {\"type\": \"nominal\", \"field\": \"Nationality\"}, \"tooltip\": [{\"type\": \"nominal\", \"field\": \"Nationality\"}, {\"type\": \"quantitative\", \"field\": \"Age\"}, {\"type\": \"quantitative\", \"field\": \"Overall\"}, {\"type\": \"quantitative\", \"field\": \"Potential\"}], \"x\": {\"type\": \"quantitative\", \"field\": \"Age\"}, \"y\": {\"type\": \"quantitative\", \"field\": \"Overall\"}}, \"selection\": {\"selector007\": {\"type\": \"interval\", \"bind\": \"scales\", \"encodings\": [\"x\", \"y\"]}}, \"$schema\": \"https://vega.github.io/schema/vega-lite/v4.8.1.json\", \"datasets\": {\"data-bf37e5e832fe9869dc6b6c9e00c0e0cd\": [{\"Nationality\": \"Afghanistan\", \"Age\": 22.5, \"Overall\": 61.0, \"Potential\": 67.75}, {\"Nationality\": \"Albania\", \"Age\": 24.025, \"Overall\": 65.925, \"Potential\": 71.7}, {\"Nationality\": \"Algeria\", \"Age\": 27.05, \"Overall\": 70.63333333333334, \"Potential\": 72.98333333333333}, {\"Nationality\": \"Andorra\", \"Age\": 28.0, \"Overall\": 62.0, \"Potential\": 64.0}, {\"Nationality\": \"Angola\", \"Age\": 25.866666666666667, \"Overall\": 67.6, \"Potential\": 71.53333333333333}, {\"Nationality\": \"Antigua & Barbuda\", \"Age\": 22.75, \"Overall\": 62.5, \"Potential\": 67.75}, {\"Nationality\": \"Argentina\", \"Age\": 26.2059765208111, \"Overall\": 68.57203842049093, \"Potential\": 73.21024546424759}, {\"Nationality\": \"Armenia\", \"Age\": 26.8, \"Overall\": 69.0, \"Potential\": 71.8}, {\"Nationality\": \"Australia\", \"Age\": 24.406779661016948, \"Overall\": 62.652542372881356, \"Potential\": 68.36016949152543}, {\"Nationality\": \"Austria\", \"Age\": 24.654362416107382, \"Overall\": 64.91610738255034, \"Potential\": 69.84563758389261}, {\"Nationality\": \"Azerbaijan\", \"Age\": 26.0, \"Overall\": 63.0, \"Potential\": 66.8}, {\"Nationality\": \"Barbados\", \"Age\": 27.666666666666668, \"Overall\": 63.333333333333336, \"Potential\": 65.0}, {\"Nationality\": \"Belarus\", \"Age\": 28.75, \"Overall\": 70.25, \"Potential\": 71.0}, {\"Nationality\": \"Belgium\", \"Age\": 24.334615384615386, \"Overall\": 68.81153846153846, \"Potential\": 74.38846153846154}, {\"Nationality\": \"Belize\", \"Age\": 25.0, \"Overall\": 60.0, \"Potential\": 61.0}, {\"Nationality\": \"Benin\", \"Age\": 26.066666666666666, \"Overall\": 67.46666666666667, \"Potential\": 70.66666666666667}, {\"Nationality\": \"Bermuda\", \"Age\": 27.5, \"Overall\": 66.5, \"Potential\": 66.5}, {\"Nationality\": \"Bolivia\", \"Age\": 25.533333333333335, \"Overall\": 65.66666666666667, \"Potential\": 69.96666666666667}, {\"Nationality\": \"Bosnia Herzegovina\", \"Age\": 26.0, \"Overall\": 68.63934426229508, \"Potential\": 72.34426229508196}, {\"Nationality\": \"Botswana\", \"Age\": 20.0, \"Overall\": 56.0, \"Potential\": 68.0}, {\"Nationality\": \"Brazil\", \"Age\": 27.62515114873035, \"Overall\": 71.2515114873035, \"Potential\": 73.35187424425635}, {\"Nationality\": \"Bulgaria\", \"Age\": 26.84375, \"Overall\": 64.875, \"Potential\": 67.40625}, {\"Nationality\": \"Burkina Faso\", \"Age\": 25.125, \"Overall\": 68.5625, \"Potential\": 73.125}, {\"Nationality\": \"Burundi\", \"Age\": 23.333333333333332, \"Overall\": 62.333333333333336, \"Potential\": 69.33333333333333}, {\"Nationality\": \"Cameroon\", \"Age\": 24.555555555555557, \"Overall\": 67.9888888888889, \"Potential\": 73.0111111111111}, {\"Nationality\": \"Canada\", \"Age\": 24.25, \"Overall\": 62.9375, \"Potential\": 69.21875}, {\"Nationality\": \"Cape Verde\", \"Age\": 27.42105263157895, \"Overall\": 71.63157894736842, \"Potential\": 73.73684210526316}, {\"Nationality\": \"Central African Rep.\", \"Age\": 25.666666666666668, \"Overall\": 73.33333333333333, \"Potential\": 76.0}, {\"Nationality\": \"Chad\", \"Age\": 22.5, \"Overall\": 70.0, \"Potential\": 78.0}, {\"Nationality\": \"Chile\", \"Age\": 25.074168797953963, \"Overall\": 64.9923273657289, \"Potential\": 70.6854219948849}, {\"Nationality\": \"China PR\", \"Age\": 26.084183673469386, \"Overall\": 59.910714285714285, \"Potential\": 63.71938775510204}, {\"Nationality\": \"Colombia\", \"Age\": 25.241100323624597, \"Overall\": 65.57605177993527, \"Potential\": 71.042071197411}, {\"Nationality\": \"Comoros\", \"Age\": 26.5, \"Overall\": 67.5, \"Potential\": 69.33333333333333}, {\"Nationality\": \"Congo\", \"Age\": 23.96, \"Overall\": 63.92, \"Potential\": 69.64}, {\"Nationality\": \"Costa Rica\", \"Age\": 26.4, \"Overall\": 68.86666666666666, \"Potential\": 71.63333333333334}, {\"Nationality\": \"Croatia\", \"Age\": 24.88095238095238, \"Overall\": 69.56349206349206, \"Potential\": 74.4920634920635}, {\"Nationality\": \"Cuba\", \"Age\": 23.75, \"Overall\": 66.0, \"Potential\": 72.75}, {\"Nationality\": \"Curacao\", \"Age\": 25.357142857142858, \"Overall\": 67.57142857142857, \"Potential\": 70.28571428571429}, {\"Nationality\": \"Cyprus\", \"Age\": 24.0, \"Overall\": 64.125, \"Potential\": 70.125}, {\"Nationality\": \"Czech Republic\", \"Age\": 26.76, \"Overall\": 69.51, \"Potential\": 72.78}, {\"Nationality\": \"DR Congo\", \"Age\": 25.75, \"Overall\": 69.21153846153847, \"Potential\": 72.38461538461539}, {\"Nationality\": \"Denmark\", \"Age\": 24.145833333333332, \"Overall\": 63.717261904761905, \"Potential\": 70.05059523809524}, {\"Nationality\": \"Dominican Republic\", \"Age\": 23.0, \"Overall\": 72.0, \"Potential\": 80.5}, {\"Nationality\": \"Ecuador\", \"Age\": 25.162790697674417, \"Overall\": 68.79069767441861, \"Potential\": 72.93023255813954}, {\"Nationality\": \"Egypt\", \"Age\": 26.967741935483872, \"Overall\": 70.2258064516129, \"Potential\": 72.64516129032258}, {\"Nationality\": \"El Salvador\", \"Age\": 26.2, \"Overall\": 66.0, \"Potential\": 69.6}, {\"Nationality\": \"England\", \"Age\": 24.03008423586041, \"Overall\": 63.42960288808664, \"Potential\": 70.03730445246691}, {\"Nationality\": \"Equatorial Guinea\", \"Age\": 25.4, \"Overall\": 70.0, \"Potential\": 75.2}, {\"Nationality\": \"Eritrea\", \"Age\": 27.0, \"Overall\": 67.5, \"Potential\": 68.5}, {\"Nationality\": \"Estonia\", \"Age\": 27.153846153846153, \"Overall\": 64.92307692307692, \"Potential\": 67.76923076923077}, {\"Nationality\": \"Ethiopia\", \"Age\": 32.0, \"Overall\": 64.0, \"Potential\": 64.0}, {\"Nationality\": \"FYR Macedonia\", \"Age\": 25.1, \"Overall\": 68.0, \"Potential\": 72.5}, {\"Nationality\": \"Faroe Islands\", \"Age\": 24.166666666666668, \"Overall\": 62.5, \"Potential\": 66.16666666666667}, {\"Nationality\": \"Fiji\", \"Age\": 30.0, \"Overall\": 71.0, \"Potential\": 71.0}, {\"Nationality\": \"Finland\", \"Age\": 24.761194029850746, \"Overall\": 64.02985074626865, \"Potential\": 69.85074626865672}, {\"Nationality\": \"France\", \"Age\": 24.61597374179431, \"Overall\": 67.79868708971554, \"Potential\": 73.44748358862144}, {\"Nationality\": \"Gabon\", \"Age\": 26.066666666666666, \"Overall\": 69.46666666666667, \"Potential\": 72.26666666666667}, {\"Nationality\": \"Gambia\", \"Age\": 23.2, \"Overall\": 67.2, \"Potential\": 73.93333333333334}, {\"Nationality\": \"Georgia\", \"Age\": 24.03846153846154, \"Overall\": 68.34615384615384, \"Potential\": 73.8076923076923}, {\"Nationality\": \"Germany\", \"Age\": 24.33806343906511, \"Overall\": 66.08681135225376, \"Potential\": 71.69949916527545}, {\"Nationality\": \"Ghana\", \"Age\": 23.657894736842106, \"Overall\": 67.04385964912281, \"Potential\": 73.08771929824562}, {\"Nationality\": \"Greece\", \"Age\": 24.480392156862745, \"Overall\": 69.06862745098039, \"Potential\": 74.42156862745098}, {\"Nationality\": \"Grenada\", \"Age\": 25.0, \"Overall\": 63.0, \"Potential\": 68.0}, {\"Nationality\": \"Guam\", \"Age\": 30.0, \"Overall\": 67.0, \"Potential\": 67.0}, {\"Nationality\": \"Guatemala\", \"Age\": 26.666666666666668, \"Overall\": 63.666666666666664, \"Potential\": 67.66666666666667}, {\"Nationality\": \"Guinea\", \"Age\": 24.677419354838708, \"Overall\": 68.12903225806451, \"Potential\": 72.87096774193549}, {\"Nationality\": \"Guinea Bissau\", \"Age\": 23.133333333333333, \"Overall\": 67.26666666666667, \"Potential\": 73.13333333333334}, {\"Nationality\": \"Guyana\", \"Age\": 27.333333333333332, \"Overall\": 61.666666666666664, \"Potential\": 66.33333333333333}, {\"Nationality\": \"Haiti\", \"Age\": 23.9, \"Overall\": 63.4, \"Potential\": 69.9}, {\"Nationality\": \"Honduras\", \"Age\": 26.8125, \"Overall\": 69.1875, \"Potential\": 72.3125}, {\"Nationality\": \"Hong Kong\", \"Age\": 28.0, \"Overall\": 60.5, \"Potential\": 66.5}, {\"Nationality\": \"Hungary\", \"Age\": 25.526315789473685, \"Overall\": 69.23684210526316, \"Potential\": 73.21052631578948}, {\"Nationality\": \"Iceland\", \"Age\": 25.872340425531913, \"Overall\": 66.8936170212766, \"Potential\": 71.38297872340425}, {\"Nationality\": \"India\", \"Age\": 24.933333333333334, \"Overall\": 58.666666666666664, \"Potential\": 63.6}, {\"Nationality\": \"Indonesia\", \"Age\": 17.0, \"Overall\": 56.0, \"Potential\": 74.0}, {\"Nationality\": \"Iran\", \"Age\": 25.235294117647058, \"Overall\": 68.82352941176471, \"Potential\": 72.76470588235294}, {\"Nationality\": \"Iraq\", \"Age\": 25.142857142857142, \"Overall\": 67.0, \"Potential\": 71.14285714285714}, {\"Nationality\": \"Israel\", \"Age\": 28.214285714285715, \"Overall\": 72.14285714285714, \"Potential\": 73.0}, {\"Nationality\": \"Italy\", \"Age\": 25.928774928774928, \"Overall\": 68.15811965811966, \"Potential\": 72.69088319088318}, {\"Nationality\": \"Ivory Coast\", \"Age\": 25.18, \"Overall\": 69.39, \"Potential\": 74.12}, {\"Nationality\": \"Jamaica\", \"Age\": 28.125, \"Overall\": 66.625, \"Potential\": 68.71875}, {\"Nationality\": \"Japan\", \"Age\": 26.15899581589958, \"Overall\": 62.62133891213389, \"Potential\": 66.63389121338912}, {\"Nationality\": \"Jordan\", \"Age\": 23.0, \"Overall\": 63.0, \"Potential\": 70.0}, {\"Nationality\": \"Kazakhstan\", \"Age\": 26.25, \"Overall\": 64.75, \"Potential\": 66.5}, {\"Nationality\": \"Kenya\", \"Age\": 24.8, \"Overall\": 65.4, \"Potential\": 70.3}, {\"Nationality\": \"Korea DPR\", \"Age\": 28.5, \"Overall\": 65.5, \"Potential\": 69.5}, {\"Nationality\": \"Korea Republic\", \"Age\": 26.35223880597015, \"Overall\": 64.1820895522388, \"Potential\": 67.51940298507462}, {\"Nationality\": \"Kosovo\", \"Age\": 23.454545454545453, \"Overall\": 66.03030303030303, \"Potential\": 72.27272727272727}, {\"Nationality\": \"Kuwait\", \"Age\": 31.0, \"Overall\": 70.0, \"Potential\": 70.0}, {\"Nationality\": \"Latvia\", \"Age\": 29.0, \"Overall\": 63.166666666666664, \"Potential\": 66.33333333333333}, {\"Nationality\": \"Lebanon\", \"Age\": 29.0, \"Overall\": 66.0, \"Potential\": 66.0}, {\"Nationality\": \"Liberia\", \"Age\": 25.0, \"Overall\": 68.0, \"Potential\": 73.0}, {\"Nationality\": \"Libya\", \"Age\": 25.0, \"Overall\": 70.0, \"Potential\": 73.5}, {\"Nationality\": \"Liechtenstein\", \"Age\": 25.333333333333332, \"Overall\": 64.66666666666667, \"Potential\": 67.66666666666667}, {\"Nationality\": \"Lithuania\", \"Age\": 24.875, \"Overall\": 63.5, \"Potential\": 68.5}, {\"Nationality\": \"Luxembourg\", \"Age\": 23.25, \"Overall\": 63.875, \"Potential\": 71.375}, {\"Nationality\": \"Madagascar\", \"Age\": 27.5, \"Overall\": 66.91666666666667, \"Potential\": 68.83333333333333}, {\"Nationality\": \"Mali\", \"Age\": 24.74418604651163, \"Overall\": 68.97674418604652, \"Potential\": 73.69767441860465}, {\"Nationality\": \"Malta\", \"Age\": 25.0, \"Overall\": 61.0, \"Potential\": 63.0}, {\"Nationality\": \"Mauritania\", \"Age\": 23.0, \"Overall\": 64.5, \"Potential\": 70.0}, {\"Nationality\": \"Mauritius\", \"Age\": 26.0, \"Overall\": 68.0, \"Potential\": 69.0}, {\"Nationality\": \"Mexico\", \"Age\": 24.31967213114754, \"Overall\": 65.41803278688525, \"Potential\": 71.50819672131148}, {\"Nationality\": \"Moldova\", \"Age\": 23.6, \"Overall\": 66.2, \"Potential\": 73.2}, {\"Nationality\": \"Montenegro\", \"Age\": 25.0, \"Overall\": 68.47826086956522, \"Potential\": 72.95652173913044}, {\"Nationality\": \"Montserrat\", \"Age\": 25.5, \"Overall\": 64.75, \"Potential\": 68.0}, {\"Nationality\": \"Morocco\", \"Age\": 25.894117647058824, \"Overall\": 69.94117647058823, \"Potential\": 73.31764705882352}, {\"Nationality\": \"Mozambique\", \"Age\": 26.0, \"Overall\": 71.0, \"Potential\": 73.75}, {\"Nationality\": \"Namibia\", \"Age\": 24.666666666666668, \"Overall\": 66.0, \"Potential\": 71.33333333333333}, {\"Nationality\": \"Netherlands\", \"Age\": 24.0, \"Overall\": 67.65342163355409, \"Potential\": 73.0242825607064}, {\"Nationality\": \"New Caledonia\", \"Age\": 30.0, \"Overall\": 71.0, \"Potential\": 71.0}, {\"Nationality\": \"New Zealand\", \"Age\": 24.25, \"Overall\": 62.61363636363637, \"Potential\": 68.06818181818181}, {\"Nationality\": \"Nicaragua\", \"Age\": 29.0, \"Overall\": 64.0, \"Potential\": 64.0}, {\"Nationality\": \"Niger\", \"Age\": 24.666666666666668, \"Overall\": 62.333333333333336, \"Potential\": 66.66666666666667}, {\"Nationality\": \"Nigeria\", \"Age\": 23.06611570247934, \"Overall\": 67.14876033057851, \"Potential\": 73.86776859504133}, {\"Nationality\": \"Northern Ireland\", \"Age\": 24.9375, \"Overall\": 63.4875, \"Potential\": 69.2625}, {\"Nationality\": \"Norway\", \"Age\": 24.052785923753667, \"Overall\": 63.16129032258065, \"Potential\": 69.43695014662757}, {\"Nationality\": \"Oman\", \"Age\": 36.0, \"Overall\": 72.0, \"Potential\": 72.0}, {\"Nationality\": \"Palestine\", \"Age\": 31.0, \"Overall\": 66.0, \"Potential\": 66.0}, {\"Nationality\": \"Panama\", \"Age\": 26.4, \"Overall\": 67.66666666666667, \"Potential\": 70.33333333333333}, {\"Nationality\": \"Paraguay\", \"Age\": 26.094117647058823, \"Overall\": 69.61176470588235, \"Potential\": 72.94117647058823}, {\"Nationality\": \"Peru\", \"Age\": 25.864864864864863, \"Overall\": 70.21621621621621, \"Potential\": 73.64864864864865}, {\"Nationality\": \"Philippines\", \"Age\": 23.5, \"Overall\": 65.0, \"Potential\": 71.5}, {\"Nationality\": \"Poland\", \"Age\": 24.56, \"Overall\": 63.22857142857143, \"Potential\": 68.82}, {\"Nationality\": \"Portugal\", \"Age\": 25.76086956521739, \"Overall\": 71.34472049689441, \"Potential\": 75.29813664596273}, {\"Nationality\": \"Puerto Rico\", \"Age\": 34.0, \"Overall\": 63.0, \"Potential\": 63.0}, {\"Nationality\": \"Qatar\", \"Age\": 24.0, \"Overall\": 63.0, \"Potential\": 68.0}, {\"Nationality\": \"Republic of Ireland\", \"Age\": 24.668478260869566, \"Overall\": 60.88586956521739, \"Potential\": 66.88858695652173}, {\"Nationality\": \"Romania\", \"Age\": 25.40740740740741, \"Overall\": 69.16666666666667, \"Potential\": 73.66666666666667}, {\"Nationality\": \"Russia\", \"Age\": 24.962025316455698, \"Overall\": 70.0632911392405, \"Potential\": 75.34177215189874}, {\"Nationality\": \"Rwanda\", \"Age\": 21.0, \"Overall\": 63.0, \"Potential\": 71.0}, {\"Nationality\": \"Saudi Arabia\", \"Age\": 24.558823529411764, \"Overall\": 60.76764705882353, \"Potential\": 66.36764705882354}, {\"Nationality\": \"Scotland\", \"Age\": 24.933566433566433, \"Overall\": 63.97902097902098, \"Potential\": 70.26923076923077}, {\"Nationality\": \"Senegal\", \"Age\": 25.361538461538462, \"Overall\": 68.61538461538461, \"Potential\": 72.92307692307692}, {\"Nationality\": \"Serbia\", \"Age\": 25.642857142857142, \"Overall\": 69.92857142857143, \"Potential\": 73.65079365079364}, {\"Nationality\": \"Sierra Leone\", \"Age\": 24.833333333333332, \"Overall\": 65.33333333333333, \"Potential\": 70.83333333333333}, {\"Nationality\": \"Slovakia\", \"Age\": 26.27777777777778, \"Overall\": 68.4074074074074, \"Potential\": 72.79629629629629}, {\"Nationality\": \"Slovenia\", \"Age\": 26.472727272727273, \"Overall\": 69.52727272727273, \"Potential\": 72.74545454545455}, {\"Nationality\": \"South Africa\", \"Age\": 26.422535211267604, \"Overall\": 67.47887323943662, \"Potential\": 70.54929577464789}, {\"Nationality\": \"South Sudan\", \"Age\": 25.0, \"Overall\": 60.0, \"Potential\": 63.0}, {\"Nationality\": \"Spain\", \"Age\": 25.325559701492537, \"Overall\": 69.69869402985074, \"Potential\": 74.61660447761194}, {\"Nationality\": \"St Kitts Nevis\", \"Age\": 26.333333333333332, \"Overall\": 62.0, \"Potential\": 63.333333333333336}, {\"Nationality\": \"St Lucia\", \"Age\": 24.0, \"Overall\": 64.0, \"Potential\": 68.0}, {\"Nationality\": \"Sudan\", \"Age\": 26.333333333333332, \"Overall\": 62.666666666666664, \"Potential\": 66.0}, {\"Nationality\": \"Suriname\", \"Age\": 25.25, \"Overall\": 67.0, \"Potential\": 69.5}, {\"Nationality\": \"Sweden\", \"Age\": 24.838790931989923, \"Overall\": 63.622166246851386, \"Potential\": 68.93954659949623}, {\"Nationality\": \"Switzerland\", \"Age\": 24.64090909090909, \"Overall\": 65.47727272727273, \"Potential\": 71.98181818181818}, {\"Nationality\": \"Syria\", \"Age\": 26.0, \"Overall\": 68.55555555555556, \"Potential\": 71.44444444444444}, {\"Nationality\": \"S\\u00e3o Tom\\u00e9 & Pr\\u00edncipe\", \"Age\": 31.0, \"Overall\": 72.0, \"Potential\": 72.0}, {\"Nationality\": \"Tanzania\", \"Age\": 22.0, \"Overall\": 67.0, \"Potential\": 74.0}, {\"Nationality\": \"Thailand\", \"Age\": 25.0, \"Overall\": 62.4, \"Potential\": 66.2}, {\"Nationality\": \"Togo\", \"Age\": 28.25, \"Overall\": 71.33333333333333, \"Potential\": 72.91666666666667}, {\"Nationality\": \"Trinidad & Tobago\", \"Age\": 31.75, \"Overall\": 66.75, \"Potential\": 66.75}, {\"Nationality\": \"Tunisia\", \"Age\": 26.46875, \"Overall\": 68.25, \"Potential\": 71.3125}, {\"Nationality\": \"Turkey\", \"Age\": 24.712871287128714, \"Overall\": 66.07260726072607, \"Potential\": 71.7887788778878}, {\"Nationality\": \"Uganda\", \"Age\": 23.833333333333332, \"Overall\": 62.5, \"Potential\": 68.33333333333333}, {\"Nationality\": \"Ukraine\", \"Age\": 25.136986301369863, \"Overall\": 70.42465753424658, \"Potential\": 75.0958904109589}, {\"Nationality\": \"United Arab Emirates\", \"Age\": 26.0, \"Overall\": 77.0, \"Potential\": 78.0}, {\"Nationality\": \"United States\", \"Age\": 25.090651558073656, \"Overall\": 65.1728045325779, \"Potential\": 70.51558073654391}, {\"Nationality\": \"Uruguay\", \"Age\": 26.610738255033556, \"Overall\": 70.42953020134229, \"Potential\": 73.38255033557047}, {\"Nationality\": \"Uzbekistan\", \"Age\": 29.5, \"Overall\": 67.5, \"Potential\": 67.5}, {\"Nationality\": \"Venezuela\", \"Age\": 24.313432835820894, \"Overall\": 67.26865671641791, \"Potential\": 73.14925373134328}, {\"Nationality\": \"Wales\", \"Age\": 24.73643410852713, \"Overall\": 64.13953488372093, \"Potential\": 69.96899224806202}, {\"Nationality\": \"Zambia\", \"Age\": 22.22222222222222, \"Overall\": 65.22222222222223, \"Potential\": 73.77777777777777}, {\"Nationality\": \"Zimbabwe\", \"Age\": 26.846153846153847, \"Overall\": 69.76923076923077, \"Potential\": 72.46153846153847}]}}, {\"mode\": \"vega-lite\"});\n",
       "</script>"
      ],
      "text/plain": [
       "alt.Chart(...)"
      ]
     },
     "execution_count": 58,
     "metadata": {},
     "output_type": "execute_result"
    }
   ],
   "source": [
    "alt.Chart(nationality_avg).mark_point().encode(\n",
    "    x='Age',\n",
    "    y='Overall',\n",
    "    color='Nationality',\n",
    "    tooltip=['Nationality', 'Age', 'Overall', 'Potential']\n",
    ").interactive()"
   ]
  },
  {
   "cell_type": "code",
   "execution_count": 59,
   "metadata": {},
   "outputs": [
    {
     "data": {
      "text/plain": [
       "Nationality\n",
       "Afghanistan      4\n",
       "Albania         40\n",
       "Algeria         60\n",
       "Andorra          1\n",
       "Angola          15\n",
       "              ... \n",
       "Uzbekistan       2\n",
       "Venezuela       67\n",
       "Wales          129\n",
       "Zambia           9\n",
       "Zimbabwe        13\n",
       "Name: Nationality, Length: 164, dtype: int64"
      ]
     },
     "execution_count": 59,
     "metadata": {},
     "output_type": "execute_result"
    }
   ],
   "source": [
    "# Count number of players of each nationality\n",
    "nationality_counts = df.groupby('Nationality')['Nationality'].count()\n",
    "nationality_counts"
   ]
  },
  {
   "cell_type": "code",
   "execution_count": 60,
   "metadata": {},
   "outputs": [],
   "source": [
    "stadiums_df = pd.read_csv(\"stadiums-with-GPS-coordinates.csv\")"
   ]
  },
  {
   "cell_type": "code",
   "execution_count": 61,
   "metadata": {},
   "outputs": [
    {
     "name": "stdout",
     "output_type": "stream",
     "text": [
      "Teams without Clubs: 136\n",
      "Clubs without Teams: 652\n",
      "Missing pairs: 788\n"
     ]
    }
   ],
   "source": [
    "teams = set(stadiums['Team'])\n",
    "clubs = set(df['Club'])\n",
    "print(\"Teams without Clubs: %d\" % len(teams-clubs))\n",
    "print(\"Clubs without Teams: %d\" % len(clubs-teams))\n",
    "print(\"Missing pairs: %d\" % len(teams ^ clubs))"
   ]
  },
  {
   "cell_type": "code",
   "execution_count": 5,
   "metadata": {},
   "outputs": [
    {
     "data": {
      "text/html": [
       "\n",
       "<div id=\"altair-viz-dffb33d24a4248359c4713518cc18821\"></div>\n",
       "<script type=\"text/javascript\">\n",
       "  (function(spec, embedOpt){\n",
       "    let outputDiv = document.currentScript.previousElementSibling;\n",
       "    if (outputDiv.id !== \"altair-viz-dffb33d24a4248359c4713518cc18821\") {\n",
       "      outputDiv = document.getElementById(\"altair-viz-dffb33d24a4248359c4713518cc18821\");\n",
       "    }\n",
       "    const paths = {\n",
       "      \"vega\": \"https://cdn.jsdelivr.net/npm//vega@5?noext\",\n",
       "      \"vega-lib\": \"https://cdn.jsdelivr.net/npm//vega-lib?noext\",\n",
       "      \"vega-lite\": \"https://cdn.jsdelivr.net/npm//vega-lite@4.8.1?noext\",\n",
       "      \"vega-embed\": \"https://cdn.jsdelivr.net/npm//vega-embed@6?noext\",\n",
       "    };\n",
       "\n",
       "    function loadScript(lib) {\n",
       "      return new Promise(function(resolve, reject) {\n",
       "        var s = document.createElement('script');\n",
       "        s.src = paths[lib];\n",
       "        s.async = true;\n",
       "        s.onload = () => resolve(paths[lib]);\n",
       "        s.onerror = () => reject(`Error loading script: ${paths[lib]}`);\n",
       "        document.getElementsByTagName(\"head\")[0].appendChild(s);\n",
       "      });\n",
       "    }\n",
       "\n",
       "    function showError(err) {\n",
       "      outputDiv.innerHTML = `<div class=\"error\" style=\"color:red;\">${err}</div>`;\n",
       "      throw err;\n",
       "    }\n",
       "\n",
       "    function displayChart(vegaEmbed) {\n",
       "      vegaEmbed(outputDiv, spec, embedOpt)\n",
       "        .catch(err => showError(`Javascript Error: ${err.message}<br>This usually means there's a typo in your chart specification. See the javascript console for the full traceback.`));\n",
       "    }\n",
       "\n",
       "    if(typeof define === \"function\" && define.amd) {\n",
       "      requirejs.config({paths});\n",
       "      require([\"vega-embed\"], displayChart, err => showError(`Error loading script: ${err.message}`));\n",
       "    } else if (typeof vegaEmbed === \"function\") {\n",
       "      displayChart(vegaEmbed);\n",
       "    } else {\n",
       "      loadScript(\"vega\")\n",
       "        .then(() => loadScript(\"vega-lite\"))\n",
       "        .then(() => loadScript(\"vega-embed\"))\n",
       "        .catch(showError)\n",
       "        .then(() => displayChart(vegaEmbed));\n",
       "    }\n",
       "  })({\"config\": {\"view\": {\"continuousWidth\": 400, \"continuousHeight\": 300, \"stroke\": null}}, \"layer\": [{\"data\": {\"sphere\": true}, \"mark\": {\"type\": \"geoshape\", \"fill\": \"lightblue\"}}, {\"data\": {\"graticule\": true}, \"mark\": {\"type\": \"geoshape\", \"stroke\": \"white\", \"strokeWidth\": 0.5}}, {\"data\": {\"url\": \"https://vega.github.io/vega-datasets/data/world-110m.json\", \"format\": {\"feature\": \"countries\", \"type\": \"topojson\"}}, \"mark\": {\"type\": \"geoshape\", \"fill\": \"ForestGreen\", \"stroke\": \"black\"}}], \"height\": 400, \"projection\": {\"type\": \"naturalEarth1\"}, \"width\": 600, \"$schema\": \"https://vega.github.io/schema/vega-lite/v4.8.1.json\"}, {\"mode\": \"vega-lite\"});\n",
       "</script>"
      ],
      "text/plain": [
       "alt.LayerChart(...)"
      ]
     },
     "execution_count": 5,
     "metadata": {},
     "output_type": "execute_result"
    }
   ],
   "source": [
    "# Create world map\n",
    "# source: https://altair-viz.github.io/gallery/world_map.html\n",
    "\n",
    "# Data generators for the background\n",
    "sphere = alt.sphere()\n",
    "graticule = alt.graticule()\n",
    "\n",
    "# Source of land data\n",
    "source = alt.topo_feature(data.world_110m.url, 'countries')\n",
    "\n",
    "# Layering and configuring the components\n",
    "alt.layer(\n",
    "    alt.Chart(sphere).mark_geoshape(fill='lightblue'),\n",
    "    alt.Chart(graticule).mark_geoshape(stroke='white', strokeWidth=0.5),\n",
    "    alt.Chart(source).mark_geoshape(fill='ForestGreen', stroke='black')\n",
    ").project(\n",
    "    'naturalEarth1'\n",
    ").properties(width=600, height=400).configure_view(stroke=None)"
   ]
  },
  {
   "cell_type": "code",
   "execution_count": null,
   "metadata": {},
   "outputs": [],
   "source": []
  }
 ],
 "metadata": {
  "kernelspec": {
   "display_name": "Python 3",
   "language": "python",
   "name": "python3"
  },
  "language_info": {
   "codemirror_mode": {
    "name": "ipython",
    "version": 3
   },
   "file_extension": ".py",
   "mimetype": "text/x-python",
   "name": "python",
   "nbconvert_exporter": "python",
   "pygments_lexer": "ipython3",
   "version": "3.7.3"
  }
 },
 "nbformat": 4,
 "nbformat_minor": 4
}
